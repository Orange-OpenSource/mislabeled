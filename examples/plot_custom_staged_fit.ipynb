{
 "cells": [
  {
   "cell_type": "markdown",
   "metadata": {},
   "source": [
    "# MLP staged fitting by batch (instead of epochs)"
   ]
  },
  {
   "cell_type": "code",
   "execution_count": 6,
   "metadata": {},
   "outputs": [
    {
     "data": {
      "image/png": "[encoded data removed]",
      "text/plain": [
       "<Figure size 640x480 with 1 Axes>"
      ]
     },
     "metadata": {},
     "output_type": "display_data"
    }
   ],
   "source": [
    "import os\n",
    "from functools import partial\n",
    "\n",
    "import matplotlib.pyplot as plt\n",
    "import numpy as np\n",
    "from sklearn.feature_extraction.text import TfidfVectorizer\n",
    "from sklearn.neural_network import MLPClassifier\n",
    "from sklearn.utils import gen_batches, shuffle\n",
    "\n",
    "from mislabeled.datasets.wrench import fetch_wrench\n",
    "from mislabeled.detect.detectors import ForgetScores\n",
    "from mislabeled.ensemble._progressive import staged_fit\n",
    "from mislabeled.preprocessing import WeakLabelEncoder\n",
    "\n",
    "seed = 1\n",
    "fetch_wrench = partial(\n",
    "    fetch_wrench, cache_folder=os.path.join(os.path.expanduser(\"~\"), \"datasets\")\n",
    ")\n",
    "dataset = \"youtube\"\n",
    "all = fetch_wrench(dataset)\n",
    "train = fetch_wrench(dataset, split=\"train\")\n",
    "validation = fetch_wrench(dataset, split=\"validation\")\n",
    "test = fetch_wrench(dataset, split=\"test\")\n",
    "\n",
    "tfidf = TfidfVectorizer(\n",
    "    strip_accents=\"unicode\", stop_words=\"english\", min_df=2, max_df=1.0\n",
    ").fit(all[\"data\"])\n",
    "\n",
    "X_train = tfidf.transform(train[\"data\"]).astype(np.float32)\n",
    "X_validation = tfidf.transform(validation[\"data\"]).astype(np.float32)\n",
    "X_test = tfidf.transform(test[\"data\"]).astype(np.float32)\n",
    "\n",
    "y_train = train[\"target\"]\n",
    "y_validation = validation[\"target\"]\n",
    "y_test = test[\"target\"]\n",
    "\n",
    "wle = WeakLabelEncoder(random_state=seed).fit(train[\"weak_targets\"])\n",
    "y_noisy_train = wle.transform(train[\"weak_targets\"])\n",
    "y_noisy_validation = wle.transform(validation[\"weak_targets\"])\n",
    "y_noisy_test = wle.transform(test[\"weak_targets\"])\n",
    "\n",
    "unlabeled = y_noisy_train == -1\n",
    "X_train = X_train[~unlabeled]\n",
    "y_train = y_train[~unlabeled]\n",
    "y_noisy_train = y_noisy_train[~unlabeled]\n",
    "\n",
    "\n",
    "@staged_fit.register(MLPClassifier)\n",
    "def batched_staged_fit_mlp(estimator: MLPClassifier, X, y):\n",
    "    n_samples = X.shape[0]\n",
    "    classes = np.unique(y)\n",
    "    n_iter = estimator.get_params()[\"max_iter\"]\n",
    "    batch_size = estimator.get_params()[\"batch_size\"]\n",
    "    for i in range(n_iter):\n",
    "        X_shuffle, y_shuffle = shuffle(X, y)\n",
    "        batches = gen_batches(n_samples, batch_size, min_batch_size=batch_size)\n",
    "        for batch in batches:\n",
    "            estimator.partial_fit(X_shuffle[batch], y_shuffle[batch], classes=classes)\n",
    "            yield estimator\n",
    "\n",
    "\n",
    "forget_mlp = ForgetScores(\n",
    "    MLPClassifier(\n",
    "        hidden_layer_sizes=(120),\n",
    "        solver=\"sgd\",\n",
    "        learning_rate_init=0.05,\n",
    "        learning_rate=\"constant\",\n",
    "        momentum=0.5,\n",
    "        nesterovs_momentum=True,\n",
    "        batch_size=100,\n",
    "        max_iter=100,\n",
    "    )\n",
    ")\n",
    "forget_events = -forget_mlp.trust_score(X_train, y_train)\n",
    "\n",
    "\n",
    "plt.hist(\n",
    "    [forget_events[y_train == y_noisy_train], forget_events[y_train != y_noisy_train]],\n",
    "    label=[\"clean\",\"noisy\"],\n",
    "    density=True,\n",
    ")\n",
    "plt.xlabel(\"forget events\")\n",
    "plt.ylabel(\"density\")\n",
    "plt.legend()\n",
    "plt.show()"
   ]
  }
 ],
 "metadata": {
  "kernelspec": {
   "display_name": "Python 3",
   "language": "python",
   "name": "python3"
  },
  "language_info": {
   "codemirror_mode": {
    "name": "ipython",
    "version": 3
   },
   "file_extension": ".py",
   "mimetype": "text/x-python",
   "name": "python",
   "nbconvert_exporter": "python",
   "pygments_lexer": "ipython3",
   "version": "3.9.6"
  }
 },
 "nbformat": 4,
 "nbformat_minor": 2
}
